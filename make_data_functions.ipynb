{
 "metadata": {
  "name": "",
  "signature": "sha256:2836f2c6cc6892be1abcbf000f1e494e8acd8a4ad6f5648eb94ea2679b283549"
 },
 "nbformat": 3,
 "nbformat_minor": 0,
 "worksheets": [
  {
   "cells": [
    {
     "cell_type": "code",
     "collapsed": false,
     "input": [
      "import os\n",
      "import csv\n",
      "import simplejson as json\n",
      "\n",
      "files = os.listdir(\"data\")\n",
      "\n",
      "string = \"\"\"\n",
      "data.%(file)s_data = function() {\n",
      "    return %(data)s;\n",
      "}\n",
      "\n",
      "\"\"\"\n",
      "\n",
      "out = open('data/data.js', 'w')\n",
      "out.write(\"\"\"!function() {\n",
      "var data = {}\n",
      "\n",
      "\"\"\")\n",
      "\n",
      "for f in files:\n",
      "    data = []\n",
      "    if f.startswith('movies') or f.startswith('diamonds'):\n",
      "        continue\n",
      "    with open(\"data/\" + f, 'r') as currentFile:\n",
      "        reader = csv.DictReader(currentFile)\n",
      "        for row in reader:\n",
      "            data.append(row)\n",
      "    dstring = list(map(lambda x: json.dumps(x), data))\n",
      "    dstring = \"[\" + \",\\n\".join(dstring) + \"]\"\n",
      "    out.write(string % {\"file\": f.replace('.csv', ''), \"data\": dstring})\n",
      "\n",
      "            \n",
      "out.write(\"\"\" \n",
      "  if(typeof module === \"object\" && module.exports){\n",
      "    // package loaded as node module\n",
      "    module.exports = data;\n",
      "  } else {\n",
      "    // file is loaded in browser.\n",
      "    console.log('loaded in browser')\n",
      "    this.ggd3 = ggd3;\n",
      "  }\n",
      "}();\n",
      "\n",
      "\"\"\")\n",
      "out.close()"
     ],
     "language": "python",
     "metadata": {},
     "outputs": [],
     "prompt_number": 1
    },
    {
     "cell_type": "code",
     "collapsed": false,
     "input": [
      "\"adfasf.csv\".replace('.csv', '')"
     ],
     "language": "python",
     "metadata": {},
     "outputs": [
      {
       "metadata": {},
       "output_type": "pyout",
       "prompt_number": 3,
       "text": [
        "'adfasf'"
       ]
      }
     ],
     "prompt_number": 3
    }
   ],
   "metadata": {}
  }
 ]
}